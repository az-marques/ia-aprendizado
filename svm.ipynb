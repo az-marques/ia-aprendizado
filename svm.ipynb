{
 "cells": [
  {
   "cell_type": "code",
   "execution_count": 1,
   "id": "93ee97e5",
   "metadata": {},
   "outputs": [],
   "source": [
    "import pandas as pd\n",
    "\n",
    "def load_data():\n",
    "    return pd.read_csv(\"datasets/ckd.csv\")\n",
    "data = load_data()"
   ]
  },
  {
   "cell_type": "code",
   "execution_count": 2,
   "id": "c720250d",
   "metadata": {},
   "outputs": [],
   "source": [
    "columns = list(data.columns)\n",
    "\n",
    "classes = list(data[\"CKD_Stage\"].unique())\n",
    "# transform classes from numpy int to string to be printed\n",
    "multi_classes = [str(c) for c in classes]\n",
    "\n",
    "binary = list(data[\"CKD_Progression\"].unique())\n",
    "classes_binary = [str(c) for c in binary]"
   ]
  },
  {
   "cell_type": "code",
   "execution_count": 4,
   "id": "5de1c7e5",
   "metadata": {},
   "outputs": [],
   "source": [
    "data.fillna(0, inplace=True)\n",
    "data.replace({\"?\": 0}, inplace=True)"
   ]
  },
  {
   "cell_type": "code",
   "execution_count": 5,
   "id": "c8d3eede",
   "metadata": {},
   "outputs": [
    {
     "name": "stdout",
     "output_type": "stream",
     "text": [
      "Classification Report:\n",
      "              precision    recall  f1-score   support\n",
      "\n",
      "           0       0.84      0.93      0.88       240\n",
      "           1       0.78      0.60      0.68       102\n",
      "\n",
      "    accuracy                           0.83       342\n",
      "   macro avg       0.81      0.76      0.78       342\n",
      "weighted avg       0.83      0.83      0.82       342\n",
      "\n",
      "Confusion Matrix:\n",
      "[[223  17]\n",
      " [ 41  61]]\n"
     ]
    }
   ],
   "source": [
    "# svm with binary classification (CKD_Progression)\n",
    "from sklearn.model_selection import train_test_split\n",
    "from sklearn.preprocessing import StandardScaler\n",
    "from sklearn.svm import SVC\n",
    "from sklearn.metrics import classification_report, confusion_matrix\n",
    "\n",
    "def svm_classifier(X_train, y_train, X_test, y_test, classes, kernel):\n",
    "    scaler = StandardScaler()\n",
    "    X_train_scaled = scaler.fit_transform(X_train)\n",
    "    X_test_scaled = scaler.transform(X_test)\n",
    "    \n",
    "    svm = SVC(kernel=kernel, random_state=42)\n",
    "    svm.fit(X_train_scaled, y_train)\n",
    "    \n",
    "    y_pred = svm.predict(X_test_scaled)\n",
    "    \n",
    "    print(\"Classification Report:\")\n",
    "    print(classification_report(y_test, y_pred, target_names=classes))\n",
    "    \n",
    "    print(\"Confusion Matrix:\")\n",
    "    print(confusion_matrix(y_test, y_pred))\n",
    "\n",
    "X = data.drop(columns=[\"CKD_Progression\"])\n",
    "y = data[\"CKD_Progression\"]\n",
    "# split data into train and test sets\n",
    "X_train, X_test, y_train, y_test = train_test_split(X, y, test_size=0.3, random_state=42)\n",
    "svm_classifier(X_train, y_train, X_test, y_test, classes_binary, kernel='linear')"
   ]
  },
  {
   "cell_type": "code",
   "execution_count": null,
   "id": "3cef8dff",
   "metadata": {},
   "outputs": [
    {
     "name": "stdout",
     "output_type": "stream",
     "text": [
      "Classification Report:\n",
      "              precision    recall  f1-score   support\n",
      "\n",
      "           0       0.82      0.95      0.88       240\n",
      "           1       0.81      0.50      0.62       102\n",
      "\n",
      "    accuracy                           0.82       342\n",
      "   macro avg       0.81      0.72      0.75       342\n",
      "weighted avg       0.81      0.82      0.80       342\n",
      "\n",
      "Confusion Matrix:\n",
      "[[228  12]\n",
      " [ 51  51]]\n"
     ]
    }
   ],
   "source": [
    "# rbf kernel\n",
    "svm_classifier(X_train, y_train, X_test, y_test, classes_binary, kernel='rbf')"
   ]
  },
  {
   "cell_type": "code",
   "execution_count": null,
   "id": "581014e9",
   "metadata": {},
   "outputs": [
    {
     "name": "stdout",
     "output_type": "stream",
     "text": [
      "Classification Report:\n",
      "              precision    recall  f1-score   support\n",
      "\n",
      "           3       0.96      1.00      0.98        23\n",
      "           5       0.98      0.99      0.98       139\n",
      "           2       0.97      0.97      0.97       111\n",
      "           4       1.00      0.97      0.99        69\n",
      "\n",
      "    accuracy                           0.98       342\n",
      "   macro avg       0.98      0.98      0.98       342\n",
      "weighted avg       0.98      0.98      0.98       342\n",
      "\n",
      "Confusion Matrix:\n",
      "[[ 23   0   0   0]\n",
      " [  1 137   1   0]\n",
      " [  0   3 108   0]\n",
      " [  0   0   2  67]]\n"
     ]
    }
   ],
   "source": [
    "# multi class classification (CKD_Stage)\n",
    "X_multi = data.drop(columns=[\"CKD_Stage\"])\n",
    "# one vs all strategy for multi-class classification (under the hood, SVC handles multi-class classification under the hood)\n",
    "y_multi = data[\"CKD_Stage\"]\n",
    "X_train_multi, X_test_multi, y_train_multi, y_test_multi = train_test_split(X_multi, y_multi, test_size=0.3, random_state=42)\n",
    "svm_classifier(X_train_multi, y_train_multi, X_test_multi, y_test_multi, multi_classes, kernel='linear')"
   ]
  },
  {
   "cell_type": "code",
   "execution_count": 9,
   "id": "d965d1b7",
   "metadata": {},
   "outputs": [
    {
     "name": "stdout",
     "output_type": "stream",
     "text": [
      "Classification Report:\n",
      "              precision    recall  f1-score   support\n",
      "\n",
      "           3       0.96      0.96      0.96        23\n",
      "           5       0.97      0.96      0.97       139\n",
      "           2       0.92      0.96      0.94       111\n",
      "           4       0.98      0.93      0.96        69\n",
      "\n",
      "    accuracy                           0.96       342\n",
      "   macro avg       0.96      0.95      0.96       342\n",
      "weighted avg       0.96      0.96      0.96       342\n",
      "\n",
      "Confusion Matrix:\n",
      "[[ 22   1   0   0]\n",
      " [  1 134   4   0]\n",
      " [  0   3 107   1]\n",
      " [  0   0   5  64]]\n"
     ]
    }
   ],
   "source": [
    "# multi class with rbf kernel\n",
    "svm_classifier(X_train_multi, y_train_multi, X_test_multi, y_test_multi, multi_classes, kernel='rbf')"
   ]
  },
  {
   "cell_type": "markdown",
   "id": "2e8e4c25",
   "metadata": {},
   "source": [
    "SVMs foram uma ótima escolha para determinar o estágio da doença"
   ]
  }
 ],
 "metadata": {
  "kernelspec": {
   "display_name": "Python 3",
   "language": "python",
   "name": "python3"
  },
  "language_info": {
   "codemirror_mode": {
    "name": "ipython",
    "version": 3
   },
   "file_extension": ".py",
   "mimetype": "text/x-python",
   "name": "python",
   "nbconvert_exporter": "python",
   "pygments_lexer": "ipython3",
   "version": "3.11.9"
  }
 },
 "nbformat": 4,
 "nbformat_minor": 5
}
